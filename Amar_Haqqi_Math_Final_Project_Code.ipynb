{
 "cells": [
  {
   "cell_type": "code",
   "execution_count": 289,
   "metadata": {
    "collapsed": false
   },
   "outputs": [],
   "source": [
    "#These imports were used from the cited https://github.com/seanjtaylor/NFLRanking \n",
    "import pandas as pd\n",
    "from sklearn import linear_model\n",
    "import numpy as np\n",
    "from patsy import dmatrices, dmatrix\n",
    "\n",
    "# These imports were my own additions\n",
    "from numpy import ravel\n",
    "import operator"
   ]
  },
  {
   "cell_type": "markdown",
   "metadata": {},
   "source": [
    "### Data from: http://armchairanalysis.com/data.php\n",
    "The only data publicly available for the 2016 season was for weeks 1-2. Therefore, the following results are based only on the data from weeks 1-2 in season 2016. I could not find any other complete data/files online for NFL seasons for free."
   ]
  },
  {
   "cell_type": "code",
   "execution_count": 290,
   "metadata": {
    "collapsed": false
   },
   "outputs": [],
   "source": [
    "#I got this data from http://armchairanalysis.com/data.php which was cited in https://github.com/seanjtaylor/NFLRanking\n",
    "#I had to modify this line of code to comply with the new 2016 format name of csv file\n",
    "game_data = pd.read_csv('nfl_sample_data_2016/GAME.csv', index_col=0)"
   ]
  },
  {
   "cell_type": "code",
   "execution_count": 291,
   "metadata": {
    "collapsed": false
   },
   "outputs": [],
   "source": [
    "#This was used from https://github.com/seanjtaylor/NFLRanking\n",
    "#However, I modified it to work for the new 2016 data format\n",
    "games = game_data\n",
    "g16 = games[(games['seas'] == 2016)&(games['wk'] < 18)]"
   ]
  },
  {
   "cell_type": "code",
   "execution_count": 292,
   "metadata": {
    "collapsed": false
   },
   "outputs": [],
   "source": [
    "team_data = pd.read_csv('nfl_sample_data_2016/TEAM.csv', index_col=0)\n",
    "teams = sorted(team_data['tname'].unique())\n",
    "team_ids = {team: i for i, team in enumerate(teams)}"
   ]
  },
  {
   "cell_type": "markdown",
   "metadata": {},
   "source": [
    "# I implemented Massey Method below"
   ]
  },
  {
   "cell_type": "code",
   "execution_count": 293,
   "metadata": {
    "collapsed": false
   },
   "outputs": [],
   "source": [
    "# I referenced http://public.gettysburg.edu/~cwessell/RankingPage/massey.pdf to implement this function\n",
    "def massey_method(team_data_input, game_data_input, games_input, teams):\n",
    "    num_rows = len(games_input)\n",
    "    num_cols = len(teams)\n",
    "    matrix = np.zeros([num_rows, num_cols])\n",
    "    y = np.zeros([num_rows, 1])\n",
    "    ones_row = np.ones([1, num_cols])\n",
    "    \n",
    "    # create mapping between indices of matrix and teams\n",
    "    team_indices_dict = {}\n",
    "    indices_team_dict = {}\n",
    "    team_index = 0\n",
    "    for team in teams:\n",
    "        team_indices_dict[team] = team_index\n",
    "        indices_team_dict[team_index] = team\n",
    "        team_index += 1\n",
    "    \n",
    "    # \"In each row, for teams i and j that played each other, there is a 1 in the i space\n",
    "    # and a −1 in the j space, indicating that these teams played each other, with team i defeating\n",
    "    # team j, and zeros everywhere else.\"\n",
    "    # (http://public.gettysburg.edu/~cwessell/RankingPage/massey.pdf)\n",
    "    game_index = 0\n",
    "    for index, row in game_data_input.iterrows():\n",
    "        if row['ptsh'] > row['ptsv']:\n",
    "            matrix[team_indices_dict[row['h']]][team_indices_dict[row['v']]] = 1\n",
    "            matrix[team_indices_dict[row['v']]][team_indices_dict[row['h']]] = -1\n",
    "        else:\n",
    "            matrix[team_indices_dict[row['h']]][team_indices_dict[row['v']]] = -1\n",
    "            matrix[team_indices_dict[row['v']]][team_indices_dict[row['h']]] = 1\n",
    "        y[game_index] = abs(row['ptsh'] - row['ptsv'])\n",
    "        game_index += 1\n",
    "            \n",
    "\n",
    "    # \"Xr = y,\n",
    "    # where X is our matrix, \n",
    "    # r is an n × 1 vector of the ratings we are trying to find, and y is an\n",
    "    # m × 1 vector of the point differentials of every game.\"\n",
    "    # (http://public.gettysburg.edu/~cwessell/RankingPage/massey.pdf)\n",
    "    \n",
    "    \n",
    "    # X_T X r = X_T y\n",
    "    # XT X becomes a new matrix M \n",
    "    # and assign the variable p to XT y, a n × 1 vector of total point differentials\n",
    "    # (http://public.gettysburg.edu/~cwessell/RankingPage/massey.pdf)\n",
    "    \n",
    "    M = np.dot(matrix.T, matrix)\n",
    "    p = np.dot(matrix.T, y)\n",
    "    \n",
    "    # Mr = p.\n",
    "    # \"We are\n",
    "    # looking for a single solution so we can obtain the rating of each team. To fix this problem,\n",
    "    # Massey changes the last row of the matrix to a row of all ones and the corresponding entry\n",
    "    # in the point differential vector to a zero, so that the rank is no longer less than n.\"\n",
    "    # (http://public.gettysburg.edu/~cwessell/RankingPage/massey.pdf)\n",
    "    M[-1,:] = ones_row\n",
    "    np.put(p, [-1], 0)\n",
    "    \n",
    "\n",
    "    ratings = np.linalg.solve(M, p)\n",
    "    \n",
    "    # form ratings dictionary\n",
    "    ratings_dictionary = {}\n",
    "    \n",
    "    ratings_index = 0\n",
    "    for val in ratings:\n",
    "        ratings_dictionary[indices_team_dict[ratings_index]] = val[0]\n",
    "        ratings_index += 1\n",
    "\n",
    "    return ratings_dictionary"
   ]
  },
  {
   "cell_type": "markdown",
   "metadata": {},
   "source": [
    "The runtime of massey_method(team_data_input, game_data_input) is \n",
    "\n",
    "O(ab log(b) + b(a^2))\n",
    "\n",
    "where \n",
    "a = the number of columns in the matrix and\n",
    "b = the number of rows in the matrix.\n",
    "\n",
    "In this case, a = number of games in games input and b = number of teams in teams input.\n",
    "\n",
    "This is because Massey method uses Least Squares, and we know that python's numpy function uses regression, which is\n",
    "\n",
    "O(m) according to my research and source here: http://komarix.org/ac/papers/thesis/komarek_lr_thesis.pdf\n",
    "\n",
    "where m is the number of entries in the matrix.\n",
    "\n",
    "\n",
    "According to this thesis and report, the time complexity varies from O(ba) to O(b(a^2)):\n",
    "file:///Users/212570554/Downloads/Thesis-Final_Karthik_Iyer.pdf\n",
    "\n",
    "where the\n",
    "number of columns (attributes) in each matrix is a and the number of rows (instances) in\n",
    "each matrix is b."
   ]
  },
  {
   "cell_type": "code",
   "execution_count": 294,
   "metadata": {
    "collapsed": false
   },
   "outputs": [
    {
     "name": "stdout",
     "output_type": "stream",
     "text": [
      "CPU times: user 7.55 ms, sys: 1.61 ms, total: 9.15 ms\n",
      "Wall time: 7.26 ms\n"
     ]
    },
    {
     "data": {
      "text/plain": [
       "{'ARI': 35.999999999999886,\n",
       " 'ATL': 59.999999999999886,\n",
       " 'BAL': -66.999999999999929,\n",
       " 'BUF': -69.500000000000256,\n",
       " 'CAR': 16.999999999999996,\n",
       " 'CHI': -61.000000000000213,\n",
       " 'CIN': -80.75000000000027,\n",
       " 'CLE': 70.250000000000227,\n",
       " 'DAL': -71.999999999999901,\n",
       " 'DEN': 48.249999999999915,\n",
       " 'DET': -41.999999999999893,\n",
       " 'GB': 19.999999999999943,\n",
       " 'HOU': -69.999999999999929,\n",
       " 'IND': -9.9999999999999751,\n",
       " 'JAC': -24.499999999999844,\n",
       " 'KC': -49.249999999999822,\n",
       " 'LA': 31.000000000000018,\n",
       " 'MIA': 38.000000000000043,\n",
       " 'MIN': -36.749999999999865,\n",
       " 'NE': -103.00000000000001,\n",
       " 'NO': 78.999999999999886,\n",
       " 'NYG': 89.000000000000227,\n",
       " 'NYJ': 65.999999999999929,\n",
       " 'OAK': -96.000000000000156,\n",
       " 'PHI': 65.999999999999929,\n",
       " 'PIT': 56.999999999999908,\n",
       " 'SD': -41.999999999999936,\n",
       " 'SEA': 89.749999999999972,\n",
       " 'SF': 75.499999999999943,\n",
       " 'TB': -102.00000000000007,\n",
       " 'TEN': -11.999999999999954,\n",
       " 'WAS': 95.000000000000298}"
      ]
     },
     "execution_count": 294,
     "metadata": {},
     "output_type": "execute_result"
    }
   ],
   "source": [
    "%%time\n",
    "massey_method(team_data, game_data, g16, teams)"
   ]
  },
  {
   "cell_type": "markdown",
   "metadata": {},
   "source": [
    "## I implemented this sorting algorithm to sort the results"
   ]
  },
  {
   "cell_type": "code",
   "execution_count": 295,
   "metadata": {
    "collapsed": true
   },
   "outputs": [],
   "source": [
    "def sort_by_val(dict_input):\n",
    "    sorted_dict_input = sorted(dict_input.items(), key=operator.itemgetter(1))\n",
    "    return sorted_dict_input"
   ]
  },
  {
   "cell_type": "markdown",
   "metadata": {},
   "source": [
    "The time complexity of sort_by_val(dict_input) is O(n log n)\n",
    "\n",
    "This is because python's built-in function sorted is O(n log n) from its documentation because it uses Timsort: https://en.wikipedia.org/wiki/Timsort\n",
    "\n",
    "\n",
    "I iterate through the n items in the input dict_input in linear time, and then use python's sorted function."
   ]
  },
  {
   "cell_type": "markdown",
   "metadata": {},
   "source": [
    "# Wins"
   ]
  },
  {
   "cell_type": "code",
   "execution_count": 296,
   "metadata": {
    "collapsed": true
   },
   "outputs": [],
   "source": [
    "#This was used from https://github.com/seanjtaylor/NFLRanking\n",
    "#However, I modified it to work for the new 2016 data format\n",
    "def wins(df):\n",
    "    winner = df.apply(lambda x: x['h'] if x['ptsh'] > x['ptsv'] else x['v'], axis=1)\n",
    "    w = {team: 31 for team in df['h'].unique()}\n",
    "    for rank, (team, ws) in enumerate(w.iteritems()):\n",
    "        w[team] = rank\n",
    "    return w"
   ]
  },
  {
   "cell_type": "markdown",
   "metadata": {},
   "source": [
    "The runtime for the function wins(df) is \n",
    "\n",
    "O(n)\n",
    "\n",
    "where n is the number of teams, because it iterates through each of the teams and does constant time O(1) work for each iteration."
   ]
  },
  {
   "cell_type": "code",
   "execution_count": 297,
   "metadata": {
    "collapsed": false
   },
   "outputs": [
    {
     "name": "stdout",
     "output_type": "stream",
     "text": [
      "CPU times: user 12.1 ms, sys: 2.12 ms, total: 14.2 ms\n",
      "Wall time: 3.84 ms\n"
     ]
    }
   ],
   "source": [
    "%%time\n",
    "wins16 = wins(g16)\n",
    "sort_by_val(wins16)"
   ]
  },
  {
   "cell_type": "markdown",
   "metadata": {},
   "source": [
    "# Pythagorean Wins"
   ]
  },
  {
   "cell_type": "markdown",
   "metadata": {},
   "source": [
    "#This was used from https://github.com/seanjtaylor/NFLRanking\n",
    "#However, I modified it to work for the new 2016 data format\n",
    "pythagorean wins = $\\frac{p^{\\beta}}{p^{\\beta} + q^{\\beta}}$"
   ]
  },
  {
   "cell_type": "code",
   "execution_count": 298,
   "metadata": {
    "collapsed": true
   },
   "outputs": [],
   "source": [
    "def pythagorean_wins(df, beta=2.37):\n",
    "    home = df.groupby('h')[['ptsh', 'ptsv']].sum().rename(columns={'ptsh': 'ptsfor', 'ptsv': 'ptsag'}, index={'h': 'team'})\n",
    "    away = df.groupby('v')[['ptsh', 'ptsv']].sum().rename(columns={'ptsv': 'ptsfor', 'ptsh': 'ptsag'}, index={'v': 'team'})\n",
    "    newdf = pd.concat([home, away]).groupby(level=0).sum()\n",
    "    winrate = newdf['ptsfor']**beta / (newdf['ptsfor']**beta + newdf['ptsag']**beta)\n",
    "    return dict((winrate*-1).rank().astype(int).iteritems())"
   ]
  },
  {
   "cell_type": "markdown",
   "metadata": {},
   "source": [
    "The runtime for the function pythagorean_wins(df, beta=2.37) is \n",
    "\n",
    "O(n)\n",
    "\n",
    "where n is the number of teams, because it iterates through each of the teams and does constant time O(1) work for each iteration."
   ]
  },
  {
   "cell_type": "code",
   "execution_count": 299,
   "metadata": {
    "collapsed": false
   },
   "outputs": [
    {
     "name": "stdout",
     "output_type": "stream",
     "text": [
      "CPU times: user 33.9 ms, sys: 7.61 ms, total: 41.5 ms\n",
      "Wall time: 12.1 ms\n"
     ]
    }
   ],
   "source": [
    "%%time\n",
    "pythagorean_wins16 = pythagorean_wins(g16)\n",
    "sort_by_val(pythagorean_wins16)"
   ]
  },
  {
   "cell_type": "markdown",
   "metadata": {},
   "source": [
    "# Eigenvector Methods"
   ]
  },
  {
   "cell_type": "markdown",
   "metadata": {},
   "source": [
    "Power iteration code comes from [The Glowing Python's blogpost](http://glowingpython.blogspot.com/2011/05/four-ways-to-compute-google-pagerank.html).\n",
    "\n",
    "PageRank with no damping (damping = 1) should be equivalent to taking the largest eigvenvector."
   ]
  },
  {
   "cell_type": "markdown",
   "metadata": {},
   "source": [
    "### My notes:\n",
    "\n",
    "The following functions under this Eigenvector Methods section were used from \n",
    "https://github.com/seanjtaylor/NFLRanking\n",
    "    \n",
    "However, I modified it to work for the new 2016 data format"
   ]
  },
  {
   "cell_type": "code",
   "execution_count": 300,
   "metadata": {
    "collapsed": true
   },
   "outputs": [],
   "source": [
    "def make_matrix(df, elements=lambda x: (1, 0) if x['ptsh'] > x['ptsv'] else (0, 1)):\n",
    "    \"\"\"Turn a set of games into a matrix representation.\"\"\"\n",
    "    k = len(teams)\n",
    "    mat = np.zeros((k, k))\n",
    "    for ix, row in df.iterrows():\n",
    "        a, b = elements(row)\n",
    "        mat[team_ids[row['h']], team_ids[row['v']]] = a\n",
    "        mat[team_ids[row['v']], team_ids[row['h']]] = b\n",
    "    return mat"
   ]
  },
  {
   "cell_type": "markdown",
   "metadata": {},
   "source": [
    "The runtime of the function make_matrix is\n",
    "\n",
    "O(n)\n",
    "\n",
    "where n is the number of teams.\n",
    "\n",
    "This is because the function iterates through the elements of the input and constructs a matrix of its elements."
   ]
  },
  {
   "cell_type": "code",
   "execution_count": 301,
   "metadata": {
    "collapsed": true
   },
   "outputs": [],
   "source": [
    "def pagerank(g, damping=1):\n",
    "    values = g.pagerank(damping=damping)\n",
    "    g_pr = {vert['name']: val for vert, val in zip(g.vs, values)}\n",
    "    return g_pr #{key: i for i, (key, v) in enumerate(sorted(g_pr.iteritems(), key=lambda x: x[1]))}"
   ]
  },
  {
   "cell_type": "markdown",
   "metadata": {},
   "source": [
    "The runtime of pagerank is\n",
    "\n",
    "O(n^2) in the worst case, where n is the length of the vector, as each iteration of pagerank multiplies the matrix with the vector\n",
    "\n",
    "according to this research: http://www.ee.iitm.ac.in/~ee11b075/files/dsa-termpaper.pdf"
   ]
  },
  {
   "cell_type": "code",
   "execution_count": 302,
   "metadata": {
    "collapsed": true
   },
   "outputs": [],
   "source": [
    "def power_iteration(m, iters=10000, x0=None):\n",
    "    if x0 == None:\n",
    "        x0 = np.ones(m.shape[0])\n",
    "        x0 /= np.linalg.norm(x0, 1)\n",
    "\n",
    "    for i in range(iters):\n",
    "        x0 = np.dot(m,x0)\n",
    "        x0 /= np.linalg.norm(x0,1)\n",
    "\n",
    "    scores = {team: x0[i] for team, i in team_ids.iteritems()}\n",
    "    return {team: rank for rank, (team, score) in enumerate(sorted(scores.iteritems(), key=lambda x: x[1], reverse=True))}\n"
   ]
  },
  {
   "cell_type": "markdown",
   "metadata": {},
   "source": [
    "The runtime of power_iteration() is\n",
    "\n",
    "O(r*c + n) where r is the size of each row, and c is the size of each column, in the input matrix m. And n is the number of teams.\n",
    "\n",
    "This is because power_iteration() performs the dot product of the matrix and the vector. It also performs linear computations as it iterates through the n teams."
   ]
  },
  {
   "cell_type": "code",
   "execution_count": 303,
   "metadata": {
    "collapsed": true
   },
   "outputs": [],
   "source": [
    "def eigen_rank(df):\n",
    "    m = make_matrix(df)\n",
    "    return power_iteration(m)"
   ]
  },
  {
   "cell_type": "markdown",
   "metadata": {},
   "source": [
    "The runtime of eigen_rank(df) is\n",
    "\n",
    "O(n + r*c)\n",
    "\n",
    "Because it calls make_matrix(df) which runs in O(n) where n is the number of teams\n",
    "and it also calls power_iteration(m) which runs in O(r*c + n) where r is the size of each row, and c is the size of each column, in the input matrix m. And n is the number of teams."
   ]
  },
  {
   "cell_type": "code",
   "execution_count": 304,
   "metadata": {
    "collapsed": true
   },
   "outputs": [],
   "source": [
    "def eigen_rank_scores(df):\n",
    "    \"\"\"Uses points scored instead of dummy variables for wins\"\"\"\n",
    "    m = make_matrix(df, elements=lambda x: (x['ptsh'], x['ptsv']))\n",
    "    return power_iteration(m)"
   ]
  },
  {
   "cell_type": "markdown",
   "metadata": {},
   "source": [
    "The runtime of eigen_rank_scores(df) is \n",
    "\n",
    "O(n + r*c)\n",
    "\n",
    "Because it calls make_matrix(df) which runs in O(n) where n is the number of teams\n",
    "and it also calls power_iteration(m) which runs in O(r*c + n) where r is the size of each row, and c is the size of each column, in the input matrix m. And n is the number of teams."
   ]
  },
  {
   "cell_type": "code",
   "execution_count": 305,
   "metadata": {
    "collapsed": true
   },
   "outputs": [],
   "source": [
    "def score_transform(s1, s2):\n",
    "    x = (s1 + 1.0) / (s1 + s2 + 2.0)\n",
    "    return 0.5 + 0.5 * np.sign(x - 0.5) * np.sqrt(np.abs(2*x - 1))"
   ]
  },
  {
   "cell_type": "markdown",
   "metadata": {},
   "source": [
    "The runtime of score_transform(s1, s2) is\n",
    "\n",
    "O(n) where n is the length of s1/s2 because it performs computations on these vectors in constant time.\n",
    "In this case, n is the number of teams."
   ]
  },
  {
   "cell_type": "code",
   "execution_count": 306,
   "metadata": {
    "collapsed": false
   },
   "outputs": [],
   "source": [
    "def eigen_rank_scores_nonlinear(df):\n",
    "    \"\"\"Uses a transformed version of score with gives less credit for blowouts\n",
    "    See Keener (1993).\n",
    "    \"\"\" \n",
    "    m = make_matrix(df, elements=lambda x: (score_transform(x['ptsh'], x['ptsv']), score_transform(x['ptsv'], x['ptsh'])))\n",
    "    return power_iteration(m)"
   ]
  },
  {
   "cell_type": "markdown",
   "metadata": {},
   "source": [
    "The runtime of eigen_rank_scores_nonlinear(df) is\n",
    "\n",
    "O(n + r*c)\n",
    "\n",
    "Because it calls make_matrix(df) which runs in O(n) where n is the number of teams\n",
    "and it also calls power_iteration(m) which runs in O(r*c + n) where r is the size of each row, and c is the size of each column, in the input matrix m. And n is the number of teams."
   ]
  },
  {
   "cell_type": "code",
   "execution_count": 307,
   "metadata": {
    "collapsed": false
   },
   "outputs": [
    {
     "name": "stdout",
     "output_type": "stream",
     "text": [
      "CPU times: user 311 ms, sys: 30.1 ms, total: 341 ms\n",
      "Wall time: 132 ms\n"
     ]
    },
    {
     "data": {
      "text/plain": [
       "{'ARI': 6,\n",
       " 'ATL': 20,\n",
       " 'BAL': 25,\n",
       " 'BUF': 31,\n",
       " 'CAR': 2,\n",
       " 'CHI': 18,\n",
       " 'CIN': 28,\n",
       " 'CLE': 27,\n",
       " 'DAL': 26,\n",
       " 'DEN': 1,\n",
       " 'DET': 5,\n",
       " 'GB': 12,\n",
       " 'HOU': 13,\n",
       " 'IND': 10,\n",
       " 'JAC': 16,\n",
       " 'KC': 14,\n",
       " 'LA': 11,\n",
       " 'MIA': 7,\n",
       " 'MIN': 4,\n",
       " 'NE': 0,\n",
       " 'NO': 24,\n",
       " 'NYG': 21,\n",
       " 'NYJ': 29,\n",
       " 'OAK': 22,\n",
       " 'PHI': 17,\n",
       " 'PIT': 23,\n",
       " 'SD': 15,\n",
       " 'SEA': 9,\n",
       " 'SF': 3,\n",
       " 'TB': 19,\n",
       " 'TEN': 8,\n",
       " 'WAS': 30}"
      ]
     },
     "execution_count": 307,
     "metadata": {},
     "output_type": "execute_result"
    }
   ],
   "source": [
    "%%time\n",
    "eigen_rank_scores_nonlinear(g16)"
   ]
  },
  {
   "cell_type": "markdown",
   "metadata": {},
   "source": [
    "# Bradley-Terry (and Rasch) models, from Keener"
   ]
  },
  {
   "cell_type": "code",
   "execution_count": 308,
   "metadata": {
    "collapsed": false
   },
   "outputs": [],
   "source": [
    "#This was used from https://github.com/seanjtaylor/NFLRanking\n",
    "#However, I modified it to work for the new 2016 data format\n",
    "teams = sorted(games['h'].unique())\n",
    "\n",
    "def make_model_matrix(df):\n",
    "    dummies = {team: (df['h'] == team).astype(np.int) - (df['v'] == team).astype(np.int)\n",
    "               for team in teams}\n",
    "    df2 = pd.DataFrame(dummies)\n",
    "    df2['win'] = (df['ptsh'] > df['ptsv']).astype(np.int)\n",
    "\n",
    "    y, X = dmatrices('win ~ 0 + %s' % ' + '.join(teams), df2)\n",
    "    y = ravel(y)\n",
    "    return y, X"
   ]
  },
  {
   "cell_type": "markdown",
   "metadata": {},
   "source": [
    "The runtime of the function make_model_matrix(df) is\n",
    "\n",
    "O(n)\n",
    "\n",
    "where n is the number of teams.\n",
    "\n",
    "This is because the function constructs dummies by looping through the n teams: O(n)\n",
    "Then, it calls other linear and constant time functions: O(n)"
   ]
  },
  {
   "cell_type": "code",
   "execution_count": 309,
   "metadata": {
    "collapsed": true
   },
   "outputs": [],
   "source": [
    "#This was used from https://github.com/seanjtaylor/NFLRanking\n",
    "def logit_rank(df, c=1.0):\n",
    "    y, X = make_model_matrix(df)\n",
    "    clf = linear_model.LogisticRegression(C=c, penalty='l2', tol=1e-6, fit_intercept=False)\n",
    "    clf.fit(X, y)\n",
    "    return {team: rank for rank, (team, score) in enumerate(sorted(zip(teams, clf.coef_[0]), key=lambda x: x[1], reverse=True))}\n"
   ]
  },
  {
   "cell_type": "markdown",
   "metadata": {},
   "source": [
    "The runtime of the function logit_rank(df, c=1.0) is\n",
    "\n",
    "O(ab log(b) + b(a^2))\n",
    "\n",
    "where \n",
    "a = the number of columns in the matrix and\n",
    "b = the number of rows in the matrix.\n",
    "\n",
    "\n",
    "\n",
    "This is because the first call to make_model_matrix(df) is O(n), explained above, where n is the number of teams. The matrix is created in this call.\n",
    "\n",
    "\n",
    "Then, linear_model.LogisticRegression() is O(m) according to my research and source here: http://komarix.org/ac/papers/thesis/komarek_lr_thesis.pdf\n",
    "\n",
    "where m is the number of entries in the matrix.\n",
    "\n",
    "\n",
    "According to this thesis and report, the time complexity varies from O(ba) to O(b(a^2)):\n",
    "file:///Users/212570554/Downloads/Thesis-Final_Karthik_Iyer.pdf\n",
    "\n",
    "where the\n",
    "number of columns (attributes) in each matrix is a and the number of rows (instances) in\n",
    "each matrix is b.\n",
    "\n",
    "\n",
    "The clf.fit(X, y) is O(ab log(b))\n",
    "\n",
    "where a = number of features\n",
    "and b = number of samples\n",
    "according to the documentation: http://scikit-learn.org/stable/modules/tree.html#complexity\n",
    "X has size [n_samples, n_features] while y has size [n_samples]."
   ]
  },
  {
   "cell_type": "code",
   "execution_count": 310,
   "metadata": {
    "collapsed": false
   },
   "outputs": [
    {
     "name": "stdout",
     "output_type": "stream",
     "text": [
      "CPU times: user 53.7 ms, sys: 1.95 ms, total: 55.7 ms\n",
      "Wall time: 56.4 ms\n"
     ]
    }
   ],
   "source": [
    "%%time\n",
    "logit_rank_result_2016 = logit_rank(g16)\n",
    "logit_rank_result_2016"
   ]
  },
  {
   "cell_type": "markdown",
   "metadata": {},
   "source": [
    "The time complexity of sort_by_rank(team_rank_dict) is O(n log n)\n",
    "\n",
    "This is because python's built-in function sorted is O(n log n) from its documentation because it uses Timsort: https://en.wikipedia.org/wiki/Timsort\n"
   ]
  },
  {
   "cell_type": "code",
   "execution_count": 311,
   "metadata": {
    "collapsed": false
   },
   "outputs": [
    {
     "name": "stdout",
     "output_type": "stream",
     "text": [
      "CPU times: user 22 µs, sys: 2 µs, total: 24 µs\n",
      "Wall time: 29.1 µs\n"
     ]
    }
   ],
   "source": [
    "%%time\n",
    "sorted_logit_rank_result_2016 = sort_by_val(logit_rank_result_2016)\n",
    "sorted_logit_rank_result_2016"
   ]
  },
  {
   "cell_type": "markdown",
   "metadata": {},
   "source": [
    "## I implemented this algorithm to sort the teams by their points"
   ]
  },
  {
   "cell_type": "code",
   "execution_count": 312,
   "metadata": {
    "collapsed": false
   },
   "outputs": [],
   "source": [
    "#I got this data from http://armchairanalysis.com/data.php which was cited in https://github.com/seanjtaylor/NFLRanking\n",
    "team_data = pd.read_csv('nfl_sample_data_2016/TEAM.csv', index_col=0)\n",
    "\n",
    "def sort_by_points_total(df):\n",
    "    team_names = df['tname']\n",
    "    team_points = df['pts']\n",
    "    \n",
    "    teams_by_points = {}\n",
    "    \n",
    "    # initialize team_by_points dictionary\n",
    "    for name in team_names:\n",
    "        teams_by_points[name] = 0\n",
    "    \n",
    "    for name, point in zip(team_names, team_points):\n",
    "        teams_by_points[name] += point\n",
    "    \n",
    "    sorted_teams_by_points = sort_by_val(teams_by_points)\n",
    "    \n",
    "    return sorted_teams_by_points"
   ]
  },
  {
   "cell_type": "markdown",
   "metadata": {},
   "source": [
    "The runtime of sort_by_points_total(df) is O(n log n)\n",
    "\n",
    "This is because python's built-in function sorted is O(n log n) from its documentation because it uses Timsort: https://en.wikipedia.org/wiki/Timsort\n",
    "\n",
    "I iterate through the n teams in linear time, and then use python's sorted function."
   ]
  },
  {
   "cell_type": "code",
   "execution_count": 313,
   "metadata": {
    "collapsed": false
   },
   "outputs": [
    {
     "name": "stdout",
     "output_type": "stream",
     "text": [
      "CPU times: user 288 µs, sys: 39 µs, total: 327 µs\n",
      "Wall time: 307 µs\n"
     ]
    },
    {
     "data": {
      "text/plain": [
       "[('LA', 9),\n",
       " ('SEA', 15),\n",
       " ('CHI', 28),\n",
       " ('CLE', 30),\n",
       " ('TEN', 32),\n",
       " ('MIA', 34),\n",
       " ('NYG', 36),\n",
       " ('JAC', 37),\n",
       " ('BAL', 38),\n",
       " ('TB', 38),\n",
       " ('BUF', 38),\n",
       " ('CIN', 39),\n",
       " ('WAS', 39),\n",
       " ('GB', 41),\n",
       " ('MIN', 42),\n",
       " ('HOU', 42),\n",
       " ('KC', 45),\n",
       " ('DAL', 46),\n",
       " ('NO', 47),\n",
       " ('DET', 54),\n",
       " ('DEN', 55),\n",
       " ('IND', 55),\n",
       " ('SF', 55),\n",
       " ('PHI', 58),\n",
       " ('ATL', 59),\n",
       " ('NYJ', 59),\n",
       " ('ARI', 61),\n",
       " ('PIT', 62),\n",
       " ('OAK', 63),\n",
       " ('SD', 65),\n",
       " ('CAR', 66),\n",
       " ('NE', 81)]"
      ]
     },
     "execution_count": 313,
     "metadata": {},
     "output_type": "execute_result"
    }
   ],
   "source": [
    "%%time\n",
    "sort_by_points_total(team_data)"
   ]
  },
  {
   "cell_type": "markdown",
   "metadata": {},
   "source": [
    "## I implemented this algorithm to sort the teams by their points"
   ]
  },
  {
   "cell_type": "code",
   "execution_count": 314,
   "metadata": {
    "collapsed": true
   },
   "outputs": [],
   "source": [
    "#I got this data from http://armchairanalysis.com/data.php which was cited in https://github.com/seanjtaylor/NFLRanking\n",
    "team_data = pd.read_csv('nfl_sample_data_2016/TEAM.csv', index_col=0)\n",
    "\n",
    "def sort_by_points_latest_week(df):\n",
    "    team_names = df['tname']\n",
    "    team_points = df['pts']\n",
    "    \n",
    "    teams_by_points = {}\n",
    "    \n",
    "    # initialize team_by_points dictionary\n",
    "    for name in team_names:\n",
    "        teams_by_points[name] = 0\n",
    "    \n",
    "    for name, point in zip(team_names, team_points):\n",
    "        teams_by_points[name] = point # latest week replaces all other previous week values\n",
    "    \n",
    "    sorted_teams_by_points = sort_by_val(teams_by_points)\n",
    "    \n",
    "    return sorted_teams_by_points"
   ]
  },
  {
   "cell_type": "markdown",
   "metadata": {},
   "source": [
    "The runtime of sort_by_points(df) is O(n log n)\n",
    "\n",
    "This is because python's built-in function sorted is O(n log n) from its documentation because it uses Timsort: https://en.wikipedia.org/wiki/Timsort\n",
    "\n",
    "I iterate through the n teams in linear time, and then use python's sorted function."
   ]
  },
  {
   "cell_type": "code",
   "execution_count": 315,
   "metadata": {
    "collapsed": false
   },
   "outputs": [
    {
     "name": "stdout",
     "output_type": "stream",
     "text": [
      "CPU times: user 576 µs, sys: 39 µs, total: 615 µs\n",
      "Wall time: 1.4 ms\n"
     ]
    },
    {
     "data": {
      "text/plain": [
       "[('HOU', 0),\n",
       " ('SEA', 3),\n",
       " ('TB', 7),\n",
       " ('LA', 9),\n",
       " ('KC', 12),\n",
       " ('NO', 13),\n",
       " ('CHI', 14),\n",
       " ('GB', 14),\n",
       " ('JAC', 14),\n",
       " ('DET', 15),\n",
       " ('CIN', 16),\n",
       " ('NYG', 16),\n",
       " ('TEN', 16),\n",
       " ('MIN', 17),\n",
       " ('CLE', 20),\n",
       " ('IND', 20),\n",
       " ('WAS', 23),\n",
       " ('MIA', 24),\n",
       " ('PIT', 24),\n",
       " ('BAL', 25),\n",
       " ('DAL', 27),\n",
       " ('NE', 27),\n",
       " ('SF', 27),\n",
       " ('OAK', 28),\n",
       " ('PHI', 29),\n",
       " ('BUF', 31),\n",
       " ('DEN', 34),\n",
       " ('ATL', 35),\n",
       " ('NYJ', 37),\n",
       " ('SD', 38),\n",
       " ('ARI', 40),\n",
       " ('CAR', 46)]"
      ]
     },
     "execution_count": 315,
     "metadata": {},
     "output_type": "execute_result"
    }
   ],
   "source": [
    "%%time\n",
    "sort_by_points_latest_week(team_data)"
   ]
  }
 ],
 "metadata": {
  "anaconda-cloud": {},
  "kernelspec": {
   "display_name": "Python [default]",
   "language": "python",
   "name": "python2"
  },
  "language_info": {
   "codemirror_mode": {
    "name": "ipython",
    "version": 2
   },
   "file_extension": ".py",
   "mimetype": "text/x-python",
   "name": "python",
   "nbconvert_exporter": "python",
   "pygments_lexer": "ipython2",
   "version": "2.7.12"
  }
 },
 "nbformat": 4,
 "nbformat_minor": 1
}
